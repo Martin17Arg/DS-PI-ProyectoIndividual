{
 "cells": [
  {
   "cell_type": "code",
   "execution_count": 2,
   "metadata": {},
   "outputs": [],
   "source": [
    "import pandas as pd"
   ]
  },
  {
   "cell_type": "code",
   "execution_count": 3,
   "metadata": {},
   "outputs": [],
   "source": [
    "cliente = pd.read_csv('./Output/Cliente_ok.csv',usecols = ['ID','Localidad','X','Y'])"
   ]
  },
  {
   "cell_type": "code",
   "execution_count": 4,
   "metadata": {},
   "outputs": [
    {
     "name": "stdout",
     "output_type": "stream",
     "text": [
      "<class 'pandas.core.frame.DataFrame'>\n",
      "RangeIndex: 2297 entries, 0 to 2296\n",
      "Data columns (total 4 columns):\n",
      " #   Column     Non-Null Count  Dtype  \n",
      "---  ------     --------------  -----  \n",
      " 0   ID         2297 non-null   int64  \n",
      " 1   Localidad  2297 non-null   object \n",
      " 2   X          2297 non-null   float64\n",
      " 3   Y          2297 non-null   float64\n",
      "dtypes: float64(2), int64(1), object(1)\n",
      "memory usage: 71.9+ KB\n"
     ]
    }
   ],
   "source": [
    "cliente.info()"
   ]
  },
  {
   "cell_type": "code",
   "execution_count": 58,
   "metadata": {},
   "outputs": [
    {
     "data": {
      "text/plain": [
       "<AxesSubplot:xlabel='X', ylabel='Y'>"
      ]
     },
     "execution_count": 58,
     "metadata": {},
     "output_type": "execute_result"
    },
    {
     "data": {
      "image/png": "[encoded data removed]",
      "text/plain": [
       "<Figure size 720x720 with 1 Axes>"
      ]
     },
     "metadata": {
      "needs_background": "light"
     },
     "output_type": "display_data"
    },
    {
     "data": {
      "image/png": "[encoded data removed]",
      "text/plain": [
       "<Figure size 720x720 with 1 Axes>"
      ]
     },
     "metadata": {
      "needs_background": "light"
     },
     "output_type": "display_data"
    }
   ],
   "source": [
    "cliente.plot.scatter(x = 'X', y = 'Y', figsize = (10,10))\n",
    "sucursal.plot.scatter(x = 'X', y = 'Y', figsize = (10,10))"
   ]
  },
  {
   "cell_type": "code",
   "execution_count": 6,
   "metadata": {},
   "outputs": [],
   "source": [
    "sucursal = pd.read_csv('./Output/Sucursal_ok.csv')"
   ]
  },
  {
   "cell_type": "code",
   "execution_count": 7,
   "metadata": {},
   "outputs": [],
   "source": [
    "sucursal = sucursal.rename(columns = {'Latitud':'Y','Longitud':'X'})"
   ]
  },
  {
   "cell_type": "code",
   "execution_count": 8,
   "metadata": {},
   "outputs": [
    {
     "name": "stdout",
     "output_type": "stream",
     "text": [
      "<class 'pandas.core.frame.DataFrame'>\n",
      "RangeIndex: 31 entries, 0 to 30\n",
      "Data columns (total 7 columns):\n",
      " #   Column     Non-Null Count  Dtype  \n",
      "---  ------     --------------  -----  \n",
      " 0   ID         31 non-null     int64  \n",
      " 1   Sucursal   31 non-null     object \n",
      " 2   Direccion  31 non-null     object \n",
      " 3   Localidad  31 non-null     object \n",
      " 4   Provincia  31 non-null     object \n",
      " 5   Y          31 non-null     float64\n",
      " 6   X          31 non-null     float64\n",
      "dtypes: float64(2), int64(1), object(4)\n",
      "memory usage: 1.8+ KB\n"
     ]
    }
   ],
   "source": [
    "sucursal.info()"
   ]
  },
  {
   "cell_type": "code",
   "execution_count": 54,
   "metadata": {},
   "outputs": [],
   "source": [
    "def calcular_min_distancia(sucursales,cliente):\n",
    "\n",
    "    import pandas as pd\n",
    "\n",
    "    sucursales['Distancia'] = ((sucursales['X']-cliente['X'])**2+(sucursales['Y']-cliente['Y'])**2)**0.5\n",
    "    \n",
    "    distancia = sucursales['Distancia'].min() \n",
    "    \n",
    "    del sucursales\n",
    "    \n",
    "    return distancia\n"
   ]
  },
  {
   "cell_type": "code",
   "execution_count": 55,
   "metadata": {},
   "outputs": [],
   "source": [
    "cliente['Distancia'] = cliente.apply(lambda x:calcular_min_distancia(sucursal,cliente),axis=1)"
   ]
  },
  {
   "cell_type": "code",
   "execution_count": 56,
   "metadata": {},
   "outputs": [
    {
     "data": {
      "text/html": [
       "<div>\n",
       "<style scoped>\n",
       "    .dataframe tbody tr th:only-of-type {\n",
       "        vertical-align: middle;\n",
       "    }\n",
       "\n",
       "    .dataframe tbody tr th {\n",
       "        vertical-align: top;\n",
       "    }\n",
       "\n",
       "    .dataframe thead th {\n",
       "        text-align: right;\n",
       "    }\n",
       "</style>\n",
       "<table border=\"1\" class=\"dataframe\">\n",
       "  <thead>\n",
       "    <tr style=\"text-align: right;\">\n",
       "      <th></th>\n",
       "      <th>ID</th>\n",
       "      <th>Localidad</th>\n",
       "      <th>X</th>\n",
       "      <th>Y</th>\n",
       "      <th>Distancia</th>\n",
       "    </tr>\n",
       "  </thead>\n",
       "  <tbody>\n",
       "    <tr>\n",
       "      <th>0</th>\n",
       "      <td>1</td>\n",
       "      <td>LOMA VERDE</td>\n",
       "      <td>-58.818503</td>\n",
       "      <td>-34.309971</td>\n",
       "      <td>0.153049</td>\n",
       "    </tr>\n",
       "    <tr>\n",
       "      <th>1</th>\n",
       "      <td>2</td>\n",
       "      <td>SANTA ROSA</td>\n",
       "      <td>-58.730738</td>\n",
       "      <td>-34.939083</td>\n",
       "      <td>0.153049</td>\n",
       "    </tr>\n",
       "    <tr>\n",
       "      <th>2</th>\n",
       "      <td>3</td>\n",
       "      <td>TORRES</td>\n",
       "      <td>-59.127941</td>\n",
       "      <td>-34.430822</td>\n",
       "      <td>0.153049</td>\n",
       "    </tr>\n",
       "    <tr>\n",
       "      <th>3</th>\n",
       "      <td>4</td>\n",
       "      <td>RUTA SOL</td>\n",
       "      <td>-58.143940</td>\n",
       "      <td>-34.920527</td>\n",
       "      <td>0.153049</td>\n",
       "    </tr>\n",
       "    <tr>\n",
       "      <th>4</th>\n",
       "      <td>5</td>\n",
       "      <td>JOSE MELCHOR ROMERO</td>\n",
       "      <td>-58.893810</td>\n",
       "      <td>-34.944447</td>\n",
       "      <td>0.153049</td>\n",
       "    </tr>\n",
       "  </tbody>\n",
       "</table>\n",
       "</div>"
      ],
      "text/plain": [
       "   ID            Localidad          X          Y  Distancia\n",
       "0   1           LOMA VERDE -58.818503 -34.309971   0.153049\n",
       "1   2           SANTA ROSA -58.730738 -34.939083   0.153049\n",
       "2   3               TORRES -59.127941 -34.430822   0.153049\n",
       "3   4             RUTA SOL -58.143940 -34.920527   0.153049\n",
       "4   5  JOSE MELCHOR ROMERO -58.893810 -34.944447   0.153049"
      ]
     },
     "execution_count": 56,
     "metadata": {},
     "output_type": "execute_result"
    }
   ],
   "source": [
    "cliente.head()"
   ]
  },
  {
   "cell_type": "code",
   "execution_count": 10,
   "metadata": {},
   "outputs": [],
   "source": [
    "suc_nuevo = sucursal.copy()"
   ]
  },
  {
   "cell_type": "code",
   "execution_count": 12,
   "metadata": {},
   "outputs": [
    {
     "name": "stdout",
     "output_type": "stream",
     "text": [
      "<class 'pandas.core.frame.DataFrame'>\n",
      "RangeIndex: 31 entries, 0 to 30\n",
      "Data columns (total 7 columns):\n",
      " #   Column     Non-Null Count  Dtype  \n",
      "---  ------     --------------  -----  \n",
      " 0   ID         31 non-null     int64  \n",
      " 1   Sucursal   31 non-null     object \n",
      " 2   Direccion  31 non-null     object \n",
      " 3   Localidad  31 non-null     object \n",
      " 4   Provincia  31 non-null     object \n",
      " 5   Y          31 non-null     float64\n",
      " 6   X          31 non-null     float64\n",
      "dtypes: float64(2), int64(1), object(4)\n",
      "memory usage: 1.8+ KB\n"
     ]
    }
   ],
   "source": [
    "suc_nuevo.info()"
   ]
  },
  {
   "cell_type": "code",
   "execution_count": 13,
   "metadata": {},
   "outputs": [
    {
     "data": {
      "text/html": [
       "<div>\n",
       "<style scoped>\n",
       "    .dataframe tbody tr th:only-of-type {\n",
       "        vertical-align: middle;\n",
       "    }\n",
       "\n",
       "    .dataframe tbody tr th {\n",
       "        vertical-align: top;\n",
       "    }\n",
       "\n",
       "    .dataframe thead th {\n",
       "        text-align: right;\n",
       "    }\n",
       "</style>\n",
       "<table border=\"1\" class=\"dataframe\">\n",
       "  <thead>\n",
       "    <tr style=\"text-align: right;\">\n",
       "      <th></th>\n",
       "      <th>ID</th>\n",
       "      <th>Localidad</th>\n",
       "      <th>X</th>\n",
       "      <th>Y</th>\n",
       "    </tr>\n",
       "  </thead>\n",
       "  <tbody>\n",
       "    <tr>\n",
       "      <th>0</th>\n",
       "      <td>1</td>\n",
       "      <td>LOMA VERDE</td>\n",
       "      <td>-58.818503</td>\n",
       "      <td>-34.309971</td>\n",
       "    </tr>\n",
       "    <tr>\n",
       "      <th>1</th>\n",
       "      <td>2</td>\n",
       "      <td>SANTA ROSA</td>\n",
       "      <td>-58.730738</td>\n",
       "      <td>-34.939083</td>\n",
       "    </tr>\n",
       "    <tr>\n",
       "      <th>2</th>\n",
       "      <td>3</td>\n",
       "      <td>TORRES</td>\n",
       "      <td>-59.127941</td>\n",
       "      <td>-34.430822</td>\n",
       "    </tr>\n",
       "    <tr>\n",
       "      <th>3</th>\n",
       "      <td>4</td>\n",
       "      <td>RUTA SOL</td>\n",
       "      <td>-58.143940</td>\n",
       "      <td>-34.920527</td>\n",
       "    </tr>\n",
       "    <tr>\n",
       "      <th>4</th>\n",
       "      <td>5</td>\n",
       "      <td>JOSE MELCHOR ROMERO</td>\n",
       "      <td>-58.893810</td>\n",
       "      <td>-34.944447</td>\n",
       "    </tr>\n",
       "  </tbody>\n",
       "</table>\n",
       "</div>"
      ],
      "text/plain": [
       "   ID            Localidad          X          Y\n",
       "0   1           LOMA VERDE -58.818503 -34.309971\n",
       "1   2           SANTA ROSA -58.730738 -34.939083\n",
       "2   3               TORRES -59.127941 -34.430822\n",
       "3   4             RUTA SOL -58.143940 -34.920527\n",
       "4   5  JOSE MELCHOR ROMERO -58.893810 -34.944447"
      ]
     },
     "execution_count": 13,
     "metadata": {},
     "output_type": "execute_result"
    }
   ],
   "source": [
    "cliente.head()"
   ]
  },
  {
   "cell_type": "code",
   "execution_count": 15,
   "metadata": {},
   "outputs": [
    {
     "data": {
      "text/plain": [
       "-58.81850307"
      ]
     },
     "execution_count": 15,
     "metadata": {},
     "output_type": "execute_result"
    }
   ],
   "source": [
    "cliente.iloc[0].X"
   ]
  },
  {
   "cell_type": "code",
   "execution_count": 16,
   "metadata": {},
   "outputs": [],
   "source": [
    "suc_nuevo['Distancia'] = ((suc_nuevo.X-cliente.iloc[0].X)**2+(suc_nuevo.Y-cliente.iloc[0].Y)**2)**0.5"
   ]
  },
  {
   "cell_type": "code",
   "execution_count": 19,
   "metadata": {},
   "outputs": [
    {
     "data": {
      "text/html": [
       "<div>\n",
       "<style scoped>\n",
       "    .dataframe tbody tr th:only-of-type {\n",
       "        vertical-align: middle;\n",
       "    }\n",
       "\n",
       "    .dataframe tbody tr th {\n",
       "        vertical-align: top;\n",
       "    }\n",
       "\n",
       "    .dataframe thead th {\n",
       "        text-align: right;\n",
       "    }\n",
       "</style>\n",
       "<table border=\"1\" class=\"dataframe\">\n",
       "  <thead>\n",
       "    <tr style=\"text-align: right;\">\n",
       "      <th></th>\n",
       "      <th>ID</th>\n",
       "      <th>Sucursal</th>\n",
       "      <th>Direccion</th>\n",
       "      <th>Localidad</th>\n",
       "      <th>Provincia</th>\n",
       "      <th>Y</th>\n",
       "      <th>X</th>\n",
       "      <th>Distancia</th>\n",
       "    </tr>\n",
       "  </thead>\n",
       "  <tbody>\n",
       "    <tr>\n",
       "      <th>0</th>\n",
       "      <td>1</td>\n",
       "      <td>Cabildo</td>\n",
       "      <td>Av. Cabildo 1342</td>\n",
       "      <td>Ciudad de Buenos Aires</td>\n",
       "      <td>Ciudad de Buenos Aires</td>\n",
       "      <td>-34.567806</td>\n",
       "      <td>-58.449572</td>\n",
       "      <td>0.450099</td>\n",
       "    </tr>\n",
       "    <tr>\n",
       "      <th>1</th>\n",
       "      <td>2</td>\n",
       "      <td>Palermo 1</td>\n",
       "      <td>Guatemala 5701</td>\n",
       "      <td>CABA</td>\n",
       "      <td>CABA</td>\n",
       "      <td>-34.579035</td>\n",
       "      <td>-58.433566</td>\n",
       "      <td>0.469651</td>\n",
       "    </tr>\n",
       "    <tr>\n",
       "      <th>2</th>\n",
       "      <td>3</td>\n",
       "      <td>Palermo 2</td>\n",
       "      <td>Gral. Lucio Norberto Mansilla 2668</td>\n",
       "      <td>CABA</td>\n",
       "      <td>C deBuenos Aires</td>\n",
       "      <td>-34.595966</td>\n",
       "      <td>-58.405150</td>\n",
       "      <td>0.502647</td>\n",
       "    </tr>\n",
       "    <tr>\n",
       "      <th>3</th>\n",
       "      <td>4</td>\n",
       "      <td>Corrientes</td>\n",
       "      <td>Av. Corrientes 2352</td>\n",
       "      <td>Ciudad de Buenos Aires</td>\n",
       "      <td>Bs As</td>\n",
       "      <td>-34.604685</td>\n",
       "      <td>-58.398764</td>\n",
       "      <td>0.512872</td>\n",
       "    </tr>\n",
       "    <tr>\n",
       "      <th>4</th>\n",
       "      <td>5</td>\n",
       "      <td>Almagro</td>\n",
       "      <td>Venezuela 3650</td>\n",
       "      <td>Capital</td>\n",
       "      <td>Bs.As.</td>\n",
       "      <td>-34.617308</td>\n",
       "      <td>-58.416179</td>\n",
       "      <td>0.506281</td>\n",
       "    </tr>\n",
       "    <tr>\n",
       "      <th>5</th>\n",
       "      <td>6</td>\n",
       "      <td>Caballito</td>\n",
       "      <td>Av. Rivadavia 4708</td>\n",
       "      <td>Capital Federal</td>\n",
       "      <td>Ciudad de Buenos Aires</td>\n",
       "      <td>-34.616303</td>\n",
       "      <td>-58.431849</td>\n",
       "      <td>0.493296</td>\n",
       "    </tr>\n",
       "    <tr>\n",
       "      <th>6</th>\n",
       "      <td>7</td>\n",
       "      <td>Flores</td>\n",
       "      <td>Av. Rivadavia 5746</td>\n",
       "      <td>CapFed</td>\n",
       "      <td>Buenos Aires</td>\n",
       "      <td>-34.622868</td>\n",
       "      <td>-58.446449</td>\n",
       "      <td>0.486137</td>\n",
       "    </tr>\n",
       "    <tr>\n",
       "      <th>7</th>\n",
       "      <td>8</td>\n",
       "      <td>Alberdi</td>\n",
       "      <td>Av. Juan Bautista Alberdi 1634</td>\n",
       "      <td>Cap. Fed.</td>\n",
       "      <td>Buenos Aires</td>\n",
       "      <td>-34.627306</td>\n",
       "      <td>-58.451498</td>\n",
       "      <td>0.485175</td>\n",
       "    </tr>\n",
       "    <tr>\n",
       "      <th>8</th>\n",
       "      <td>9</td>\n",
       "      <td>Deposito</td>\n",
       "      <td>Pedernera 530</td>\n",
       "      <td>Cap.   Federal</td>\n",
       "      <td>Buenos Aires</td>\n",
       "      <td>-34.635134</td>\n",
       "      <td>-58.461513</td>\n",
       "      <td>0.482880</td>\n",
       "    </tr>\n",
       "    <tr>\n",
       "      <th>9</th>\n",
       "      <td>10</td>\n",
       "      <td>Velez</td>\n",
       "      <td>Av. Juan Bautista Justo 7738</td>\n",
       "      <td>Cdad de Buenos Aires</td>\n",
       "      <td>Ciudad de Buenos Aires</td>\n",
       "      <td>-34.631257</td>\n",
       "      <td>-58.498063</td>\n",
       "      <td>0.453769</td>\n",
       "    </tr>\n",
       "    <tr>\n",
       "      <th>10</th>\n",
       "      <td>11</td>\n",
       "      <td>Vicente Lopez</td>\n",
       "      <td>Av. Maipú 829</td>\n",
       "      <td>Vicente López</td>\n",
       "      <td>Buenos Aires</td>\n",
       "      <td>-34.530103</td>\n",
       "      <td>-58.480066</td>\n",
       "      <td>0.403730</td>\n",
       "    </tr>\n",
       "    <tr>\n",
       "      <th>11</th>\n",
       "      <td>12</td>\n",
       "      <td>San Isidro</td>\n",
       "      <td>Av. Sta Fe 2552</td>\n",
       "      <td>Martínez</td>\n",
       "      <td>B. Aires</td>\n",
       "      <td>-34.494402</td>\n",
       "      <td>-58.497951</td>\n",
       "      <td>0.369822</td>\n",
       "    </tr>\n",
       "    <tr>\n",
       "      <th>12</th>\n",
       "      <td>13</td>\n",
       "      <td>Caseros</td>\n",
       "      <td>Justo José de Urquiza 4770</td>\n",
       "      <td>Caseros</td>\n",
       "      <td>B.Aires</td>\n",
       "      <td>-34.605948</td>\n",
       "      <td>-58.563319</td>\n",
       "      <td>0.390796</td>\n",
       "    </tr>\n",
       "    <tr>\n",
       "      <th>13</th>\n",
       "      <td>14</td>\n",
       "      <td>Moron</td>\n",
       "      <td>Salta 250</td>\n",
       "      <td>Moron</td>\n",
       "      <td>Buenos Aires</td>\n",
       "      <td>-34.645896</td>\n",
       "      <td>-58.621149</td>\n",
       "      <td>0.389608</td>\n",
       "    </tr>\n",
       "    <tr>\n",
       "      <th>14</th>\n",
       "      <td>15</td>\n",
       "      <td>Castelar</td>\n",
       "      <td>Sta Rosa 1845</td>\n",
       "      <td>Castelar</td>\n",
       "      <td>Provincia de Buenos Aires</td>\n",
       "      <td>-34.639304</td>\n",
       "      <td>-58.655671</td>\n",
       "      <td>0.367389</td>\n",
       "    </tr>\n",
       "  </tbody>\n",
       "</table>\n",
       "</div>"
      ],
      "text/plain": [
       "    ID       Sucursal                           Direccion  \\\n",
       "0    1        Cabildo                    Av. Cabildo 1342   \n",
       "1    2      Palermo 1                      Guatemala 5701   \n",
       "2    3      Palermo 2  Gral. Lucio Norberto Mansilla 2668   \n",
       "3    4     Corrientes                 Av. Corrientes 2352   \n",
       "4    5        Almagro                      Venezuela 3650   \n",
       "5    6      Caballito                  Av. Rivadavia 4708   \n",
       "6    7         Flores                  Av. Rivadavia 5746   \n",
       "7    8        Alberdi      Av. Juan Bautista Alberdi 1634   \n",
       "8    9       Deposito                       Pedernera 530   \n",
       "9   10          Velez        Av. Juan Bautista Justo 7738   \n",
       "10  11  Vicente Lopez                       Av. Maipú 829   \n",
       "11  12     San Isidro                     Av. Sta Fe 2552   \n",
       "12  13        Caseros          Justo José de Urquiza 4770   \n",
       "13  14          Moron                           Salta 250   \n",
       "14  15       Castelar                       Sta Rosa 1845   \n",
       "\n",
       "                 Localidad                  Provincia          Y          X  \\\n",
       "0   Ciudad de Buenos Aires     Ciudad de Buenos Aires -34.567806 -58.449572   \n",
       "1                     CABA                       CABA -34.579035 -58.433566   \n",
       "2                     CABA           C deBuenos Aires -34.595966 -58.405150   \n",
       "3   Ciudad de Buenos Aires                      Bs As -34.604685 -58.398764   \n",
       "4                  Capital                    Bs.As.  -34.617308 -58.416179   \n",
       "5          Capital Federal     Ciudad de Buenos Aires -34.616303 -58.431849   \n",
       "6                   CapFed               Buenos Aires -34.622868 -58.446449   \n",
       "7                Cap. Fed.               Buenos Aires -34.627306 -58.451498   \n",
       "8           Cap.   Federal               Buenos Aires -34.635134 -58.461513   \n",
       "9     Cdad de Buenos Aires     Ciudad de Buenos Aires -34.631257 -58.498063   \n",
       "10           Vicente López               Buenos Aires -34.530103 -58.480066   \n",
       "11                Martínez                   B. Aires -34.494402 -58.497951   \n",
       "12                 Caseros                    B.Aires -34.605948 -58.563319   \n",
       "13                   Moron               Buenos Aires -34.645896 -58.621149   \n",
       "14                Castelar  Provincia de Buenos Aires -34.639304 -58.655671   \n",
       "\n",
       "    Distancia  \n",
       "0    0.450099  \n",
       "1    0.469651  \n",
       "2    0.502647  \n",
       "3    0.512872  \n",
       "4    0.506281  \n",
       "5    0.493296  \n",
       "6    0.486137  \n",
       "7    0.485175  \n",
       "8    0.482880  \n",
       "9    0.453769  \n",
       "10   0.403730  \n",
       "11   0.369822  \n",
       "12   0.390796  \n",
       "13   0.389608  \n",
       "14   0.367389  "
      ]
     },
     "execution_count": 19,
     "metadata": {},
     "output_type": "execute_result"
    }
   ],
   "source": [
    "suc_nuevo.head(15)"
   ]
  },
  {
   "cell_type": "code",
   "execution_count": 18,
   "metadata": {},
   "outputs": [
    {
     "data": {
      "text/plain": [
       "14"
      ]
     },
     "execution_count": 18,
     "metadata": {},
     "output_type": "execute_result"
    }
   ],
   "source": [
    "suc_nuevo['Distancia'].idxmin()"
   ]
  },
  {
   "cell_type": "code",
   "execution_count": 22,
   "metadata": {},
   "outputs": [
    {
     "data": {
      "text/plain": [
       "ID                                  15\n",
       "Sucursal                      Castelar\n",
       "Direccion                Sta Rosa 1845\n",
       "Localidad                     Castelar\n",
       "Provincia    Provincia de Buenos Aires\n",
       "Y                           -34.639304\n",
       "X                           -58.655671\n",
       "Distancia                     0.367389\n",
       "Name: 14, dtype: object"
      ]
     },
     "execution_count": 22,
     "metadata": {},
     "output_type": "execute_result"
    }
   ],
   "source": [
    "suc_nuevo.iloc[suc_nuevo['Distancia'].idxmin()]"
   ]
  },
  {
   "cell_type": "code",
   "execution_count": 21,
   "metadata": {},
   "outputs": [
    {
     "data": {
      "text/plain": [
       "count    31.000000\n",
       "mean      2.748620\n",
       "std       3.784365\n",
       "min       0.367389\n",
       "25%       0.461970\n",
       "50%       0.512872\n",
       "75%       3.902211\n",
       "max      14.230661\n",
       "Name: Distancia, dtype: float64"
      ]
     },
     "execution_count": 21,
     "metadata": {},
     "output_type": "execute_result"
    }
   ],
   "source": [
    "suc_nuevo.Distancia.describe()"
   ]
  },
  {
   "cell_type": "code",
   "execution_count": 67,
   "metadata": {},
   "outputs": [
    {
     "data": {
      "text/html": [
       "<div>\n",
       "<style scoped>\n",
       "    .dataframe tbody tr th:only-of-type {\n",
       "        vertical-align: middle;\n",
       "    }\n",
       "\n",
       "    .dataframe tbody tr th {\n",
       "        vertical-align: top;\n",
       "    }\n",
       "\n",
       "    .dataframe thead th {\n",
       "        text-align: right;\n",
       "    }\n",
       "</style>\n",
       "<table border=\"1\" class=\"dataframe\">\n",
       "  <thead>\n",
       "    <tr style=\"text-align: right;\">\n",
       "      <th></th>\n",
       "      <th>ID</th>\n",
       "    </tr>\n",
       "    <tr>\n",
       "      <th>Localidad</th>\n",
       "      <th></th>\n",
       "    </tr>\n",
       "  </thead>\n",
       "  <tbody>\n",
       "    <tr>\n",
       "      <th>CIUDAD DE BUENOS AIRES</th>\n",
       "      <td>416</td>\n",
       "    </tr>\n",
       "    <tr>\n",
       "      <th>CORDOBA</th>\n",
       "      <td>106</td>\n",
       "    </tr>\n",
       "    <tr>\n",
       "      <th>JOSE C PAZ</th>\n",
       "      <td>35</td>\n",
       "    </tr>\n",
       "    <tr>\n",
       "      <th>MERLO</th>\n",
       "      <td>34</td>\n",
       "    </tr>\n",
       "    <tr>\n",
       "      <th>BANDFIELD</th>\n",
       "      <td>31</td>\n",
       "    </tr>\n",
       "    <tr>\n",
       "      <th>...</th>\n",
       "      <td>...</td>\n",
       "    </tr>\n",
       "    <tr>\n",
       "      <th>KILOMETRO 15</th>\n",
       "      <td>1</td>\n",
       "    </tr>\n",
       "    <tr>\n",
       "      <th>LA ARABIA</th>\n",
       "      <td>1</td>\n",
       "    </tr>\n",
       "    <tr>\n",
       "      <th>LA ARCADIA</th>\n",
       "      <td>1</td>\n",
       "    </tr>\n",
       "    <tr>\n",
       "      <th>LA CHOZA</th>\n",
       "      <td>1</td>\n",
       "    </tr>\n",
       "    <tr>\n",
       "      <th>ZONA AEROPUERTO INTERNACIONAL EZEIZA</th>\n",
       "      <td>1</td>\n",
       "    </tr>\n",
       "  </tbody>\n",
       "</table>\n",
       "<p>366 rows × 1 columns</p>\n",
       "</div>"
      ],
      "text/plain": [
       "                                       ID\n",
       "Localidad                                \n",
       "CIUDAD DE BUENOS AIRES                416\n",
       "CORDOBA                               106\n",
       "JOSE C PAZ                             35\n",
       "MERLO                                  34\n",
       "BANDFIELD                              31\n",
       "...                                   ...\n",
       "KILOMETRO 15                            1\n",
       "LA ARABIA                               1\n",
       "LA ARCADIA                              1\n",
       "LA CHOZA                                1\n",
       "ZONA AEROPUERTO INTERNACIONAL EZEIZA    1\n",
       "\n",
       "[366 rows x 1 columns]"
      ]
     },
     "execution_count": 67,
     "metadata": {},
     "output_type": "execute_result"
    }
   ],
   "source": [
    "cliente[[ 'ID','Localidad'] ].groupby(by = 'Localidad').count().sort_values(by = 'ID', ascending = False)"
   ]
  },
  {
   "cell_type": "code",
   "execution_count": 68,
   "metadata": {},
   "outputs": [
    {
     "data": {
      "text/html": [
       "<div>\n",
       "<style scoped>\n",
       "    .dataframe tbody tr th:only-of-type {\n",
       "        vertical-align: middle;\n",
       "    }\n",
       "\n",
       "    .dataframe tbody tr th {\n",
       "        vertical-align: top;\n",
       "    }\n",
       "\n",
       "    .dataframe thead th {\n",
       "        text-align: right;\n",
       "    }\n",
       "</style>\n",
       "<table border=\"1\" class=\"dataframe\">\n",
       "  <thead>\n",
       "    <tr style=\"text-align: right;\">\n",
       "      <th></th>\n",
       "      <th>ID</th>\n",
       "    </tr>\n",
       "    <tr>\n",
       "      <th>Localidad</th>\n",
       "      <th></th>\n",
       "    </tr>\n",
       "  </thead>\n",
       "  <tbody>\n",
       "    <tr>\n",
       "      <th>Rosario</th>\n",
       "      <td>2</td>\n",
       "    </tr>\n",
       "    <tr>\n",
       "      <th>Mendoza</th>\n",
       "      <td>2</td>\n",
       "    </tr>\n",
       "    <tr>\n",
       "      <th>Ciudad de Buenos Aires</th>\n",
       "      <td>2</td>\n",
       "    </tr>\n",
       "    <tr>\n",
       "      <th>Mar del Plata</th>\n",
       "      <td>2</td>\n",
       "    </tr>\n",
       "    <tr>\n",
       "      <th>CABA</th>\n",
       "      <td>2</td>\n",
       "    </tr>\n",
       "    <tr>\n",
       "      <th>Avellaneda</th>\n",
       "      <td>1</td>\n",
       "    </tr>\n",
       "    <tr>\n",
       "      <th>La Plata</th>\n",
       "      <td>1</td>\n",
       "    </tr>\n",
       "    <tr>\n",
       "      <th>San Miguel de Tucumán</th>\n",
       "      <td>1</td>\n",
       "    </tr>\n",
       "    <tr>\n",
       "      <th>San Justo</th>\n",
       "      <td>1</td>\n",
       "    </tr>\n",
       "    <tr>\n",
       "      <th>San Carlos de Bariloche</th>\n",
       "      <td>1</td>\n",
       "    </tr>\n",
       "    <tr>\n",
       "      <th>Quilmes</th>\n",
       "      <td>1</td>\n",
       "    </tr>\n",
       "    <tr>\n",
       "      <th>Moron</th>\n",
       "      <td>1</td>\n",
       "    </tr>\n",
       "    <tr>\n",
       "      <th>Martínez</th>\n",
       "      <td>1</td>\n",
       "    </tr>\n",
       "    <tr>\n",
       "      <th>Lanus</th>\n",
       "      <td>1</td>\n",
       "    </tr>\n",
       "    <tr>\n",
       "      <th>Córdoba</th>\n",
       "      <td>1</td>\n",
       "    </tr>\n",
       "    <tr>\n",
       "      <th>Coroba</th>\n",
       "      <td>1</td>\n",
       "    </tr>\n",
       "    <tr>\n",
       "      <th>Cordoba</th>\n",
       "      <td>1</td>\n",
       "    </tr>\n",
       "    <tr>\n",
       "      <th>Cdad de Buenos Aires</th>\n",
       "      <td>1</td>\n",
       "    </tr>\n",
       "    <tr>\n",
       "      <th>Castelar</th>\n",
       "      <td>1</td>\n",
       "    </tr>\n",
       "    <tr>\n",
       "      <th>Caseros</th>\n",
       "      <td>1</td>\n",
       "    </tr>\n",
       "    <tr>\n",
       "      <th>Capital Federal</th>\n",
       "      <td>1</td>\n",
       "    </tr>\n",
       "    <tr>\n",
       "      <th>Capital</th>\n",
       "      <td>1</td>\n",
       "    </tr>\n",
       "    <tr>\n",
       "      <th>CapFed</th>\n",
       "      <td>1</td>\n",
       "    </tr>\n",
       "    <tr>\n",
       "      <th>Cap. Fed.</th>\n",
       "      <td>1</td>\n",
       "    </tr>\n",
       "    <tr>\n",
       "      <th>Cap.   Federal</th>\n",
       "      <td>1</td>\n",
       "    </tr>\n",
       "    <tr>\n",
       "      <th>Vicente López</th>\n",
       "      <td>1</td>\n",
       "    </tr>\n",
       "  </tbody>\n",
       "</table>\n",
       "</div>"
      ],
      "text/plain": [
       "                         ID\n",
       "Localidad                  \n",
       "Rosario                   2\n",
       "Mendoza                   2\n",
       "Ciudad de Buenos Aires    2\n",
       "Mar del Plata             2\n",
       "CABA                      2\n",
       "Avellaneda                1\n",
       "La Plata                  1\n",
       "San Miguel de Tucumán     1\n",
       "San Justo                 1\n",
       "San Carlos de Bariloche   1\n",
       "Quilmes                   1\n",
       "Moron                     1\n",
       "Martínez                  1\n",
       "Lanus                     1\n",
       "Córdoba                   1\n",
       "Coroba                    1\n",
       "Cordoba                   1\n",
       "Cdad de Buenos Aires      1\n",
       "Castelar                  1\n",
       "Caseros                   1\n",
       "Capital Federal           1\n",
       "Capital                   1\n",
       "CapFed                    1\n",
       "Cap. Fed.                 1\n",
       "Cap.   Federal            1\n",
       "Vicente López             1"
      ]
     },
     "execution_count": 68,
     "metadata": {},
     "output_type": "execute_result"
    }
   ],
   "source": [
    "sucursal[[ 'ID','Localidad'] ].groupby(by = 'Localidad').count().sort_values(by = 'ID', ascending = False)"
   ]
  },
  {
   "cell_type": "code",
   "execution_count": null,
   "metadata": {},
   "outputs": [],
   "source": []
  }
 ],
 "metadata": {
  "kernelspec": {
   "display_name": "Python 3.9.7 ('base')",
   "language": "python",
   "name": "python3"
  },
  "language_info": {
   "codemirror_mode": {
    "name": "ipython",
    "version": 3
   },
   "file_extension": ".py",
   "mimetype": "text/x-python",
   "name": "python",
   "nbconvert_exporter": "python",
   "pygments_lexer": "ipython3",
   "version": "3.9.7"
  },
  "orig_nbformat": 4,
  "vscode": {
   "interpreter": {
    "hash": "fc0734d7887f7fa13575460a22a53a120848e2e3e3952b0a350a03b9bf5f4080"
   }
  }
 },
 "nbformat": 4,
 "nbformat_minor": 2
}
